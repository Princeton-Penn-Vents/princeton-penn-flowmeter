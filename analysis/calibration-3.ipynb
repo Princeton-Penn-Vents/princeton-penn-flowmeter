{
 "cells": [
  {
   "cell_type": "code",
   "execution_count": 1,
   "metadata": {},
   "outputs": [],
   "source": [
    "import csv\n",
    "\n",
    "import numpy as np\n",
    "import matplotlib.pyplot as plt\n",
    "import scipy.optimize\n",
    "import pandas as pd"
   ]
  },
  {
   "cell_type": "code",
   "execution_count": 2,
   "metadata": {},
   "outputs": [],
   "source": [
    "# filename_Q = \"../calibration-data/WS_Q_120-04-09_15-51-01.csv\"\n",
    "# filename_DP = \"../calibration-data/WS_DP_sensor3_1.csv\"\n",
    "filename_Q = \"/home/pivarski/Downloads/Sensirion_Q_1.csv\"\n",
    "filename_DP = \"/home/pivarski/Downloads/Sensirion_DP_sensor3_1.csv\"\n",
    "filename_sanity = \"../sanity-plot.png\"\n",
    "filename_calplot = \"../calibration-plot.png\"\n",
    "filename_out = \"../matched-points.csv\""
   ]
  },
  {
   "cell_type": "code",
   "execution_count": 3,
   "metadata": {},
   "outputs": [
    {
     "data": {
      "text/html": [
       "<div>\n",
       "<style scoped>\n",
       "    .dataframe tbody tr th:only-of-type {\n",
       "        vertical-align: middle;\n",
       "    }\n",
       "\n",
       "    .dataframe tbody tr th {\n",
       "        vertical-align: top;\n",
       "    }\n",
       "\n",
       "    .dataframe thead th {\n",
       "        text-align: right;\n",
       "    }\n",
       "</style>\n",
       "<table border=\"1\" class=\"dataframe\">\n",
       "  <thead>\n",
       "    <tr style=\"text-align: right;\">\n",
       "      <th></th>\n",
       "      <th>Device</th>\n",
       "      <th>Pressure</th>\n",
       "      <th>Temperature</th>\n",
       "      <th>Volumetric Flow</th>\n",
       "      <th>Mass Flow</th>\n",
       "      <th>Set Point</th>\n",
       "      <th>Total</th>\n",
       "      <th>Gas</th>\n",
       "      <th>Date</th>\n",
       "      <th>Time</th>\n",
       "      <th>Elaps. Mill.</th>\n",
       "    </tr>\n",
       "  </thead>\n",
       "  <tbody>\n",
       "    <tr>\n",
       "      <th>0</th>\n",
       "      <td>B</td>\n",
       "      <td>14.33</td>\n",
       "      <td>24.09</td>\n",
       "      <td>0.0</td>\n",
       "      <td>0.0</td>\n",
       "      <td>0.0</td>\n",
       "      <td>NaN</td>\n",
       "      <td>Air</td>\n",
       "      <td>04/09/2020</td>\n",
       "      <td>2020-04-09 19:48:51.867</td>\n",
       "      <td>75.9860</td>\n",
       "    </tr>\n",
       "    <tr>\n",
       "      <th>1</th>\n",
       "      <td>B</td>\n",
       "      <td>14.33</td>\n",
       "      <td>24.09</td>\n",
       "      <td>0.0</td>\n",
       "      <td>0.0</td>\n",
       "      <td>0.0</td>\n",
       "      <td>NaN</td>\n",
       "      <td>Air</td>\n",
       "      <td>04/09/2020</td>\n",
       "      <td>2020-04-09 19:48:51.977</td>\n",
       "      <td>183.4335</td>\n",
       "    </tr>\n",
       "    <tr>\n",
       "      <th>2</th>\n",
       "      <td>B</td>\n",
       "      <td>14.33</td>\n",
       "      <td>24.09</td>\n",
       "      <td>0.0</td>\n",
       "      <td>0.0</td>\n",
       "      <td>0.0</td>\n",
       "      <td>NaN</td>\n",
       "      <td>Air</td>\n",
       "      <td>04/09/2020</td>\n",
       "      <td>2020-04-09 19:48:52.086</td>\n",
       "      <td>292.8357</td>\n",
       "    </tr>\n",
       "    <tr>\n",
       "      <th>3</th>\n",
       "      <td>B</td>\n",
       "      <td>14.33</td>\n",
       "      <td>24.09</td>\n",
       "      <td>0.0</td>\n",
       "      <td>0.0</td>\n",
       "      <td>0.0</td>\n",
       "      <td>NaN</td>\n",
       "      <td>Air</td>\n",
       "      <td>04/09/2020</td>\n",
       "      <td>2020-04-09 19:48:52.195</td>\n",
       "      <td>402.1892</td>\n",
       "    </tr>\n",
       "    <tr>\n",
       "      <th>4</th>\n",
       "      <td>B</td>\n",
       "      <td>14.33</td>\n",
       "      <td>24.09</td>\n",
       "      <td>0.0</td>\n",
       "      <td>0.0</td>\n",
       "      <td>0.0</td>\n",
       "      <td>NaN</td>\n",
       "      <td>Air</td>\n",
       "      <td>04/09/2020</td>\n",
       "      <td>2020-04-09 19:48:52.305</td>\n",
       "      <td>511.3163</td>\n",
       "    </tr>\n",
       "    <tr>\n",
       "      <th>...</th>\n",
       "      <td>...</td>\n",
       "      <td>...</td>\n",
       "      <td>...</td>\n",
       "      <td>...</td>\n",
       "      <td>...</td>\n",
       "      <td>...</td>\n",
       "      <td>...</td>\n",
       "      <td>...</td>\n",
       "      <td>...</td>\n",
       "      <td>...</td>\n",
       "      <td>...</td>\n",
       "    </tr>\n",
       "    <tr>\n",
       "      <th>1846</th>\n",
       "      <td>B</td>\n",
       "      <td>14.33</td>\n",
       "      <td>23.40</td>\n",
       "      <td>0.0</td>\n",
       "      <td>0.0</td>\n",
       "      <td>0.0</td>\n",
       "      <td>NaN</td>\n",
       "      <td>Air</td>\n",
       "      <td>04/09/2020</td>\n",
       "      <td>2020-04-09 19:52:16.244</td>\n",
       "      <td>204450.7901</td>\n",
       "    </tr>\n",
       "    <tr>\n",
       "      <th>1847</th>\n",
       "      <td>B</td>\n",
       "      <td>14.33</td>\n",
       "      <td>23.40</td>\n",
       "      <td>0.0</td>\n",
       "      <td>0.0</td>\n",
       "      <td>0.0</td>\n",
       "      <td>NaN</td>\n",
       "      <td>Air</td>\n",
       "      <td>04/09/2020</td>\n",
       "      <td>2020-04-09 19:52:16.353</td>\n",
       "      <td>204559.9193</td>\n",
       "    </tr>\n",
       "    <tr>\n",
       "      <th>1848</th>\n",
       "      <td>B</td>\n",
       "      <td>14.33</td>\n",
       "      <td>23.41</td>\n",
       "      <td>0.0</td>\n",
       "      <td>0.0</td>\n",
       "      <td>0.0</td>\n",
       "      <td>NaN</td>\n",
       "      <td>Air</td>\n",
       "      <td>04/09/2020</td>\n",
       "      <td>2020-04-09 19:52:16.463</td>\n",
       "      <td>204669.6438</td>\n",
       "    </tr>\n",
       "    <tr>\n",
       "      <th>1849</th>\n",
       "      <td>B</td>\n",
       "      <td>14.33</td>\n",
       "      <td>23.41</td>\n",
       "      <td>0.0</td>\n",
       "      <td>0.0</td>\n",
       "      <td>0.0</td>\n",
       "      <td>NaN</td>\n",
       "      <td>Air</td>\n",
       "      <td>04/09/2020</td>\n",
       "      <td>2020-04-09 19:52:16.572</td>\n",
       "      <td>204779.4266</td>\n",
       "    </tr>\n",
       "    <tr>\n",
       "      <th>1850</th>\n",
       "      <td>B</td>\n",
       "      <td>14.33</td>\n",
       "      <td>23.41</td>\n",
       "      <td>0.0</td>\n",
       "      <td>0.0</td>\n",
       "      <td>0.0</td>\n",
       "      <td>NaN</td>\n",
       "      <td>Air</td>\n",
       "      <td>04/09/2020</td>\n",
       "      <td>2020-04-09 19:52:16.681</td>\n",
       "      <td>204888.4714</td>\n",
       "    </tr>\n",
       "  </tbody>\n",
       "</table>\n",
       "<p>1851 rows × 11 columns</p>\n",
       "</div>"
      ],
      "text/plain": [
       "     Device  Pressure  Temperature  Volumetric Flow  Mass Flow  Set Point  \\\n",
       "0         B     14.33        24.09              0.0        0.0        0.0   \n",
       "1         B     14.33        24.09              0.0        0.0        0.0   \n",
       "2         B     14.33        24.09              0.0        0.0        0.0   \n",
       "3         B     14.33        24.09              0.0        0.0        0.0   \n",
       "4         B     14.33        24.09              0.0        0.0        0.0   \n",
       "...     ...       ...          ...              ...        ...        ...   \n",
       "1846      B     14.33        23.40              0.0        0.0        0.0   \n",
       "1847      B     14.33        23.40              0.0        0.0        0.0   \n",
       "1848      B     14.33        23.41              0.0        0.0        0.0   \n",
       "1849      B     14.33        23.41              0.0        0.0        0.0   \n",
       "1850      B     14.33        23.41              0.0        0.0        0.0   \n",
       "\n",
       "      Total  Gas        Date                    Time  Elaps. Mill.  \n",
       "0       NaN  Air  04/09/2020 2020-04-09 19:48:51.867       75.9860  \n",
       "1       NaN  Air  04/09/2020 2020-04-09 19:48:51.977      183.4335  \n",
       "2       NaN  Air  04/09/2020 2020-04-09 19:48:52.086      292.8357  \n",
       "3       NaN  Air  04/09/2020 2020-04-09 19:48:52.195      402.1892  \n",
       "4       NaN  Air  04/09/2020 2020-04-09 19:48:52.305      511.3163  \n",
       "...     ...  ...         ...                     ...           ...  \n",
       "1846    NaN  Air  04/09/2020 2020-04-09 19:52:16.244   204450.7901  \n",
       "1847    NaN  Air  04/09/2020 2020-04-09 19:52:16.353   204559.9193  \n",
       "1848    NaN  Air  04/09/2020 2020-04-09 19:52:16.463   204669.6438  \n",
       "1849    NaN  Air  04/09/2020 2020-04-09 19:52:16.572   204779.4266  \n",
       "1850    NaN  Air  04/09/2020 2020-04-09 19:52:16.681   204888.4714  \n",
       "\n",
       "[1851 rows x 11 columns]"
      ]
     },
     "execution_count": 3,
     "metadata": {},
     "output_type": "execute_result"
    }
   ],
   "source": [
    "df_Q = pd.read_csv(filename_Q)\n",
    "df_Q[\"Time\"] = pd.to_datetime(df_Q[\"Time\"])\n",
    "df_Q"
   ]
  },
  {
   "cell_type": "code",
   "execution_count": 4,
   "metadata": {},
   "outputs": [
    {
     "data": {
      "text/html": [
       "<div>\n",
       "<style scoped>\n",
       "    .dataframe tbody tr th:only-of-type {\n",
       "        vertical-align: middle;\n",
       "    }\n",
       "\n",
       "    .dataframe tbody tr th {\n",
       "        vertical-align: top;\n",
       "    }\n",
       "\n",
       "    .dataframe thead th {\n",
       "        text-align: right;\n",
       "    }\n",
       "</style>\n",
       "<table border=\"1\" class=\"dataframe\">\n",
       "  <thead>\n",
       "    <tr style=\"text-align: right;\">\n",
       "      <th></th>\n",
       "      <th>Time</th>\n",
       "      <th>Delta Pressure</th>\n",
       "    </tr>\n",
       "  </thead>\n",
       "  <tbody>\n",
       "    <tr>\n",
       "      <th>0</th>\n",
       "      <td>202.0689</td>\n",
       "      <td>0.033</td>\n",
       "    </tr>\n",
       "    <tr>\n",
       "      <th>1</th>\n",
       "      <td>202.0741</td>\n",
       "      <td>0.000</td>\n",
       "    </tr>\n",
       "    <tr>\n",
       "      <th>2</th>\n",
       "      <td>202.0793</td>\n",
       "      <td>0.017</td>\n",
       "    </tr>\n",
       "    <tr>\n",
       "      <th>3</th>\n",
       "      <td>202.0834</td>\n",
       "      <td>0.000</td>\n",
       "    </tr>\n",
       "    <tr>\n",
       "      <th>4</th>\n",
       "      <td>202.0874</td>\n",
       "      <td>-0.017</td>\n",
       "    </tr>\n",
       "    <tr>\n",
       "      <th>...</th>\n",
       "      <td>...</td>\n",
       "      <td>...</td>\n",
       "    </tr>\n",
       "    <tr>\n",
       "      <th>43730</th>\n",
       "      <td>420.6056</td>\n",
       "      <td>0.000</td>\n",
       "    </tr>\n",
       "    <tr>\n",
       "      <th>43731</th>\n",
       "      <td>420.6088</td>\n",
       "      <td>0.017</td>\n",
       "    </tr>\n",
       "    <tr>\n",
       "      <th>43732</th>\n",
       "      <td>420.6141</td>\n",
       "      <td>0.000</td>\n",
       "    </tr>\n",
       "    <tr>\n",
       "      <th>43733</th>\n",
       "      <td>420.6194</td>\n",
       "      <td>0.000</td>\n",
       "    </tr>\n",
       "    <tr>\n",
       "      <th>43734</th>\n",
       "      <td>420.6247</td>\n",
       "      <td>0.000</td>\n",
       "    </tr>\n",
       "  </tbody>\n",
       "</table>\n",
       "<p>43735 rows × 2 columns</p>\n",
       "</div>"
      ],
      "text/plain": [
       "           Time  Delta Pressure\n",
       "0      202.0689           0.033\n",
       "1      202.0741           0.000\n",
       "2      202.0793           0.017\n",
       "3      202.0834           0.000\n",
       "4      202.0874          -0.017\n",
       "...         ...             ...\n",
       "43730  420.6056           0.000\n",
       "43731  420.6088           0.017\n",
       "43732  420.6141           0.000\n",
       "43733  420.6194           0.000\n",
       "43734  420.6247           0.000\n",
       "\n",
       "[43735 rows x 2 columns]"
      ]
     },
     "execution_count": 4,
     "metadata": {},
     "output_type": "execute_result"
    }
   ],
   "source": [
    "def read_data(filename):\n",
    "    t = []\n",
    "    dp = []\n",
    "    with open(filename) as file:\n",
    "        start_fill = False\n",
    "        for line in csv.reader(file):\n",
    "            if start_fill:\n",
    "                t.append(float(line[1].replace(\",\", \"\")))\n",
    "                dp.append(float(line[2]))\n",
    "            if line[0] == \"Sample #\":\n",
    "                start_fill = True\n",
    "    return pd.DataFrame({\"Time\": np.array(t), \"Delta Pressure\": np.array(dp)})\n",
    "\n",
    "df_DP = read_data(filename_DP)\n",
    "df_DP"
   ]
  },
  {
   "cell_type": "code",
   "execution_count": 10,
   "metadata": {},
   "outputs": [
    {
     "data": {
      "text/plain": [
       "0       0.0\n",
       "1       0.0\n",
       "2       0.0\n",
       "3       0.0\n",
       "4       0.0\n",
       "       ... \n",
       "1846    0.0\n",
       "1847    0.0\n",
       "1848    0.0\n",
       "1849    0.0\n",
       "1850    0.0\n",
       "Name: Volumetric Flow, Length: 1851, dtype: float64"
      ]
     },
     "execution_count": 10,
     "metadata": {},
     "output_type": "execute_result"
    }
   ],
   "source": [
    "df_Q[\"Volumetric Flow\"]"
   ]
  },
  {
   "cell_type": "code",
   "execution_count": 19,
   "metadata": {},
   "outputs": [
    {
     "data": {
      "text/plain": [
       "0      -175.718\n",
       "1      -175.608\n",
       "2      -175.499\n",
       "3      -175.390\n",
       "4      -175.280\n",
       "         ...   \n",
       "1846     28.659\n",
       "1847     28.768\n",
       "1848     28.878\n",
       "1849     28.987\n",
       "1850     29.096\n",
       "Name: Common Time, Length: 1851, dtype: float64"
      ]
     },
     "execution_count": 19,
     "metadata": {},
     "output_type": "execute_result"
    }
   ],
   "source": [
    "comparator = df_Q[\"Volumetric Flow\"].rolling(5).mean().fillna(method=\"bfill\").values**(7/4)\n",
    "delta = abs(comparator[1:] - comparator[:-1])\n",
    "origin_Q = df_Q[\"Time\"].values[np.argmax(delta)]\n",
    "df_Q[\"Common Time\"] = (df_Q[\"Time\"] - origin_Q).dt.total_seconds()\n",
    "df_Q[\"Binned Time\"] = (10*df_Q[\"Common Time\"].values).astype(np.int64)\n",
    "\n",
    "with np.errstate(divide=\"ignore\", invalid=\"ignore\"):\n",
    "    changes, = np.nonzero(np.logical_and(delta > 1.0, delta/comparator[:-1] > 0.05))\n",
    "change_times = df_Q[\"Common Time\"].values[changes]\n",
    "\n",
    "df_Q[\"Common Time\"]"
   ]
  },
  {
   "cell_type": "code",
   "execution_count": 20,
   "metadata": {},
   "outputs": [
    {
     "data": {
      "text/plain": [
       "0       -186.7603\n",
       "1       -186.7551\n",
       "2       -186.7499\n",
       "3       -186.7458\n",
       "4       -186.7418\n",
       "           ...   \n",
       "43730     31.7764\n",
       "43731     31.7796\n",
       "43732     31.7849\n",
       "43733     31.7902\n",
       "43734     31.7955\n",
       "Name: Common Time, Length: 43735, dtype: float64"
      ]
     },
     "execution_count": 20,
     "metadata": {},
     "output_type": "execute_result"
    }
   ],
   "source": [
    "comparator = df_DP[\"Delta Pressure\"].rolling(5).mean().fillna(method=\"bfill\").values\n",
    "delta = abs(comparator[1:] - comparator[:-1])\n",
    "origin_DP = df_DP[\"Time\"].values[np.argmax(delta)]\n",
    "df_DP[\"Common Time\"] = df_DP[\"Time\"] - origin_DP\n",
    "df_DP[\"Binned Time\"] = (10*df_DP[\"Common Time\"].values).astype(np.int64)\n",
    "df_DP[\"Common Time\"]"
   ]
  },
  {
   "cell_type": "code",
   "execution_count": 21,
   "metadata": {},
   "outputs": [
    {
     "data": {
      "image/png": "[encoded data removed]",
      "text/plain": [
       "<Figure size 432x288 with 1 Axes>"
      ]
     },
     "metadata": {
      "needs_background": "light"
     },
     "output_type": "display_data"
    }
   ],
   "source": [
    "ax = df_Q.plot(\"Common Time\", \"Volumetric Flow\")\n",
    "for t in change_times:\n",
    "    ax.axvline(t, c=\"lightgray\", ls=\"--\")"
   ]
  },
  {
   "cell_type": "code",
   "execution_count": 22,
   "metadata": {},
   "outputs": [
    {
     "data": {
      "image/png": "[encoded data removed]",
      "text/plain": [
       "<Figure size 432x288 with 1 Axes>"
      ]
     },
     "metadata": {
      "needs_background": "light"
     },
     "output_type": "display_data"
    }
   ],
   "source": [
    "ax = df_DP.plot(\"Common Time\", \"Delta Pressure\")\n",
    "for t in change_times:\n",
    "    ax.axvline(t, c=\"lightgray\", ls=\"--\")"
   ]
  },
  {
   "cell_type": "code",
   "execution_count": null,
   "metadata": {},
   "outputs": [],
   "source": [
    "binned_Q = df_Q[[\"Common Time\", \"Binned Time\", \"Volumetric Flow\"]].groupby(\"Binned Time\").mean()\n",
    "binned_Q.plot(\"Common Time\", \"Volumetric Flow\")\n",
    "binned_Q"
   ]
  },
  {
   "cell_type": "code",
   "execution_count": null,
   "metadata": {},
   "outputs": [],
   "source": [
    "binned_DP = df_DP[[\"Common Time\", \"Binned Time\", \"Delta Pressure\"]].groupby(\"Binned Time\").mean()\n",
    "binned_DP.plot(\"Common Time\", \"Delta Pressure\")\n",
    "binned_DP"
   ]
  },
  {
   "cell_type": "code",
   "execution_count": null,
   "metadata": {},
   "outputs": [],
   "source": [
    "df = pd.merge(binned_Q, binned_DP, how=\"inner\", on=\"Binned Time\")\n",
    "df"
   ]
  },
  {
   "cell_type": "code",
   "execution_count": null,
   "metadata": {},
   "outputs": [],
   "source": [
    "ax = df.plot(\"Common Time_x\", [\"Volumetric Flow\", \"Delta Pressure\"])\n",
    "for t in change_times:\n",
    "    ax.axvline(t, c=\"lightgray\", ls=\"--\")\n",
    "ax.figure.savefig(filename_sanity)"
   ]
  },
  {
   "cell_type": "code",
   "execution_count": null,
   "metadata": {},
   "outputs": [],
   "source": [
    "since_change = df[\"Common Time_x\"].values[:, np.newaxis] - change_times[np.newaxis, :]\n",
    "df[\"Recent Change\"] = np.any((-2 <= since_change) & (since_change < 8), axis=1)\n",
    "since_change[since_change < 0] = np.inf\n",
    "df[\"Since Change\"] = np.min(since_change, axis=1)\n",
    "df"
   ]
  },
  {
   "cell_type": "code",
   "execution_count": null,
   "metadata": {},
   "outputs": [],
   "source": [
    "df[~df[\"Recent Change\"]].plot.scatter(\"Common Time_x\", \"Volumetric Flow\")"
   ]
  },
  {
   "cell_type": "code",
   "execution_count": null,
   "metadata": {},
   "outputs": [],
   "source": [
    "df[~df[\"Recent Change\"]].plot.scatter(\"Common Time_x\", \"Delta Pressure\")"
   ]
  },
  {
   "cell_type": "code",
   "execution_count": null,
   "metadata": {},
   "outputs": [],
   "source": [
    "df[~df[\"Recent Change\"]].plot.scatter(\"Volumetric Flow\", \"Delta Pressure\")"
   ]
  },
  {
   "cell_type": "code",
   "execution_count": null,
   "metadata": {},
   "outputs": [],
   "source": [
    "xs = df[~df[\"Recent Change\"]][\"Volumetric Flow\"].values\n",
    "ys = df[~df[\"Recent Change\"]][\"Delta Pressure\"].values\n",
    "\n",
    "def fit(x, constant):\n",
    "    return np.sign(x)*(constant * abs(x)**(7.0/4.0))\n",
    "\n",
    "(fit_constant,), covariance = scipy.optimize.curve_fit(fit, xs, ys)\n",
    "\n",
    "fig, (ax1, ax2, ax3) = plt.subplots(1, 3, figsize=(15, 5))\n",
    "curve_xs = np.linspace(-35, 1000, 1000)\n",
    "\n",
    "for ax in (ax1, ax2, ax3):\n",
    "    h2, = ax.plot(curve_xs, fit(curve_xs, fit_constant), label=\"DP = {:.4f}*Q**7/4\".format(fit_constant))\n",
    "    h0, = ax.plot(xs, ys, \"o\", c=\"red\", label=\"measurements\")\n",
    "    ax.set_xlim(0, 120)\n",
    "    ax.set_ylim(0, 150)\n",
    "    ax.set_xlabel(\"flow Q (L/min)\")\n",
    "    ax.set_ylabel(\"delta pressure DP (Pa)\")\n",
    "    ax.legend(handles=[h0, h2])\n",
    "\n",
    "ax2.axvline(0, c=\"gray\")\n",
    "ax2.axhline(0, c=\"gray\")\n",
    "ax2.set_xlim(-35, 35)\n",
    "ax2.set_ylim(-35, 35)\n",
    "\n",
    "ax3.set_xlim(1, 1000)\n",
    "ax3.set_ylim(1, 1000)\n",
    "ax3.set_yscale(\"log\")\n",
    "ax3.set_xscale(\"log\")\n",
    "\n",
    "fig.savefig(filename_calplot)"
   ]
  },
  {
   "cell_type": "code",
   "execution_count": null,
   "metadata": {},
   "outputs": [],
   "source": [
    "dfout = df[[\"Common Time_x\", \"Since Change\", \"Recent Change\", \"Volumetric Flow\", \"Delta Pressure\"]].sort_index()\n",
    "dfout"
   ]
  },
  {
   "cell_type": "code",
   "execution_count": null,
   "metadata": {},
   "outputs": [],
   "source": [
    "dfout.to_csv(filename_out)"
   ]
  }
 ],
 "metadata": {
  "kernelspec": {
   "display_name": "Python 3",
   "language": "python",
   "name": "python3"
  },
  "language_info": {
   "codemirror_mode": {
    "name": "ipython",
    "version": 3
   },
   "file_extension": ".py",
   "mimetype": "text/x-python",
   "name": "python",
   "nbconvert_exporter": "python",
   "pygments_lexer": "ipython3",
   "version": "3.7.6"
  }
 },
 "nbformat": 4,
 "nbformat_minor": 4
}
