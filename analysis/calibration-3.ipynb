{
 "cells": [
  {
   "cell_type": "code",
   "execution_count": 7,
   "metadata": {},
   "outputs": [],
   "source": [
    "import csv\n",
    "\n",
    "import numpy as np\n",
    "import matplotlib.pyplot as plt\n",
    "import scipy.optimize\n",
    "import pandas as pd"
   ]
  },
  {
   "cell_type": "code",
   "execution_count": 4,
   "metadata": {},
   "outputs": [
    {
     "data": {
      "text/html": [
       "<div>\n",
       "<style scoped>\n",
       "    .dataframe tbody tr th:only-of-type {\n",
       "        vertical-align: middle;\n",
       "    }\n",
       "\n",
       "    .dataframe tbody tr th {\n",
       "        vertical-align: top;\n",
       "    }\n",
       "\n",
       "    .dataframe thead th {\n",
       "        text-align: right;\n",
       "    }\n",
       "</style>\n",
       "<table border=\"1\" class=\"dataframe\">\n",
       "  <thead>\n",
       "    <tr style=\"text-align: right;\">\n",
       "      <th></th>\n",
       "      <th>Device</th>\n",
       "      <th>Pressure</th>\n",
       "      <th>Temperature</th>\n",
       "      <th>Volumetric Flow</th>\n",
       "      <th>Mass Flow</th>\n",
       "      <th>Set Point</th>\n",
       "      <th>Total</th>\n",
       "      <th>Gas</th>\n",
       "      <th>Date</th>\n",
       "      <th>Time</th>\n",
       "      <th>Elaps. Mill.</th>\n",
       "    </tr>\n",
       "  </thead>\n",
       "  <tbody>\n",
       "    <tr>\n",
       "      <th>0</th>\n",
       "      <td>B</td>\n",
       "      <td>14.27</td>\n",
       "      <td>23.27</td>\n",
       "      <td>0.0</td>\n",
       "      <td>0.0</td>\n",
       "      <td>0.0</td>\n",
       "      <td>NaN</td>\n",
       "      <td>Air</td>\n",
       "      <td>04/09/2020</td>\n",
       "      <td>14:33:21.456</td>\n",
       "      <td>15.5329</td>\n",
       "    </tr>\n",
       "    <tr>\n",
       "      <th>1</th>\n",
       "      <td>B</td>\n",
       "      <td>14.27</td>\n",
       "      <td>23.27</td>\n",
       "      <td>0.0</td>\n",
       "      <td>0.0</td>\n",
       "      <td>0.0</td>\n",
       "      <td>NaN</td>\n",
       "      <td>Air</td>\n",
       "      <td>04/09/2020</td>\n",
       "      <td>14:33:21.565</td>\n",
       "      <td>128.3287</td>\n",
       "    </tr>\n",
       "    <tr>\n",
       "      <th>2</th>\n",
       "      <td>B</td>\n",
       "      <td>14.27</td>\n",
       "      <td>23.27</td>\n",
       "      <td>0.0</td>\n",
       "      <td>0.0</td>\n",
       "      <td>0.0</td>\n",
       "      <td>NaN</td>\n",
       "      <td>Air</td>\n",
       "      <td>04/09/2020</td>\n",
       "      <td>14:33:21.675</td>\n",
       "      <td>239.0866</td>\n",
       "    </tr>\n",
       "    <tr>\n",
       "      <th>3</th>\n",
       "      <td>B</td>\n",
       "      <td>14.27</td>\n",
       "      <td>23.27</td>\n",
       "      <td>0.0</td>\n",
       "      <td>0.0</td>\n",
       "      <td>0.0</td>\n",
       "      <td>NaN</td>\n",
       "      <td>Air</td>\n",
       "      <td>04/09/2020</td>\n",
       "      <td>14:33:21.784</td>\n",
       "      <td>350.1854</td>\n",
       "    </tr>\n",
       "    <tr>\n",
       "      <th>4</th>\n",
       "      <td>B</td>\n",
       "      <td>14.27</td>\n",
       "      <td>23.27</td>\n",
       "      <td>0.0</td>\n",
       "      <td>0.0</td>\n",
       "      <td>0.0</td>\n",
       "      <td>NaN</td>\n",
       "      <td>Air</td>\n",
       "      <td>04/09/2020</td>\n",
       "      <td>14:33:21.909</td>\n",
       "      <td>477.5954</td>\n",
       "    </tr>\n",
       "    <tr>\n",
       "      <th>...</th>\n",
       "      <td>...</td>\n",
       "      <td>...</td>\n",
       "      <td>...</td>\n",
       "      <td>...</td>\n",
       "      <td>...</td>\n",
       "      <td>...</td>\n",
       "      <td>...</td>\n",
       "      <td>...</td>\n",
       "      <td>...</td>\n",
       "      <td>...</td>\n",
       "      <td>...</td>\n",
       "    </tr>\n",
       "    <tr>\n",
       "      <th>531</th>\n",
       "      <td>B</td>\n",
       "      <td>14.27</td>\n",
       "      <td>23.06</td>\n",
       "      <td>0.0</td>\n",
       "      <td>0.0</td>\n",
       "      <td>0.0</td>\n",
       "      <td>NaN</td>\n",
       "      <td>Air</td>\n",
       "      <td>04/09/2020</td>\n",
       "      <td>14:34:22.324</td>\n",
       "      <td>60891.6659</td>\n",
       "    </tr>\n",
       "    <tr>\n",
       "      <th>532</th>\n",
       "      <td>B</td>\n",
       "      <td>14.28</td>\n",
       "      <td>23.06</td>\n",
       "      <td>0.0</td>\n",
       "      <td>0.0</td>\n",
       "      <td>0.0</td>\n",
       "      <td>NaN</td>\n",
       "      <td>Air</td>\n",
       "      <td>04/09/2020</td>\n",
       "      <td>14:34:22.449</td>\n",
       "      <td>61009.3017</td>\n",
       "    </tr>\n",
       "    <tr>\n",
       "      <th>533</th>\n",
       "      <td>B</td>\n",
       "      <td>14.28</td>\n",
       "      <td>23.06</td>\n",
       "      <td>0.0</td>\n",
       "      <td>0.0</td>\n",
       "      <td>0.0</td>\n",
       "      <td>NaN</td>\n",
       "      <td>Air</td>\n",
       "      <td>04/09/2020</td>\n",
       "      <td>14:34:22.559</td>\n",
       "      <td>61119.3450</td>\n",
       "    </tr>\n",
       "    <tr>\n",
       "      <th>534</th>\n",
       "      <td>B</td>\n",
       "      <td>14.27</td>\n",
       "      <td>23.07</td>\n",
       "      <td>0.0</td>\n",
       "      <td>0.0</td>\n",
       "      <td>0.0</td>\n",
       "      <td>NaN</td>\n",
       "      <td>Air</td>\n",
       "      <td>04/09/2020</td>\n",
       "      <td>14:34:22.668</td>\n",
       "      <td>61233.0903</td>\n",
       "    </tr>\n",
       "    <tr>\n",
       "      <th>535</th>\n",
       "      <td>B</td>\n",
       "      <td>14.28</td>\n",
       "      <td>23.07</td>\n",
       "      <td>0.0</td>\n",
       "      <td>0.0</td>\n",
       "      <td>0.0</td>\n",
       "      <td>NaN</td>\n",
       "      <td>Air</td>\n",
       "      <td>04/09/2020</td>\n",
       "      <td>14:34:22.777</td>\n",
       "      <td>61345.6208</td>\n",
       "    </tr>\n",
       "  </tbody>\n",
       "</table>\n",
       "<p>536 rows × 11 columns</p>\n",
       "</div>"
      ],
      "text/plain": [
       "    Device  Pressure  Temperature  Volumetric Flow  Mass Flow  Set Point  \\\n",
       "0        B     14.27        23.27              0.0        0.0        0.0   \n",
       "1        B     14.27        23.27              0.0        0.0        0.0   \n",
       "2        B     14.27        23.27              0.0        0.0        0.0   \n",
       "3        B     14.27        23.27              0.0        0.0        0.0   \n",
       "4        B     14.27        23.27              0.0        0.0        0.0   \n",
       "..     ...       ...          ...              ...        ...        ...   \n",
       "531      B     14.27        23.06              0.0        0.0        0.0   \n",
       "532      B     14.28        23.06              0.0        0.0        0.0   \n",
       "533      B     14.28        23.06              0.0        0.0        0.0   \n",
       "534      B     14.27        23.07              0.0        0.0        0.0   \n",
       "535      B     14.28        23.07              0.0        0.0        0.0   \n",
       "\n",
       "     Total  Gas        Date          Time  Elaps. Mill.  \n",
       "0      NaN  Air  04/09/2020  14:33:21.456       15.5329  \n",
       "1      NaN  Air  04/09/2020  14:33:21.565      128.3287  \n",
       "2      NaN  Air  04/09/2020  14:33:21.675      239.0866  \n",
       "3      NaN  Air  04/09/2020  14:33:21.784      350.1854  \n",
       "4      NaN  Air  04/09/2020  14:33:21.909      477.5954  \n",
       "..     ...  ...         ...           ...           ...  \n",
       "531    NaN  Air  04/09/2020  14:34:22.324    60891.6659  \n",
       "532    NaN  Air  04/09/2020  14:34:22.449    61009.3017  \n",
       "533    NaN  Air  04/09/2020  14:34:22.559    61119.3450  \n",
       "534    NaN  Air  04/09/2020  14:34:22.668    61233.0903  \n",
       "535    NaN  Air  04/09/2020  14:34:22.777    61345.6208  \n",
       "\n",
       "[536 rows x 11 columns]"
      ]
     },
     "execution_count": 4,
     "metadata": {},
     "output_type": "execute_result"
    }
   ],
   "source": [
    "df = pd.read_csv(\"../calibration-data/test220-04-09_14-33-21.csv\")\n",
    "df"
   ]
  },
  {
   "cell_type": "code",
   "execution_count": 8,
   "metadata": {},
   "outputs": [
    {
     "data": {
      "text/plain": [
       "<matplotlib.axes._subplots.AxesSubplot at 0x7f7781b91210>"
      ]
     },
     "execution_count": 8,
     "metadata": {},
     "output_type": "execute_result"
    },
    {
     "data": {
      "image/png": "[encoded data removed]",
      "text/plain": [
       "<Figure size 432x288 with 1 Axes>"
      ]
     },
     "metadata": {
      "needs_background": "light"
     },
     "output_type": "display_data"
    }
   ],
   "source": [
    "df.plot(\"Time\", \"Volumetric Flow\")"
   ]
  },
  {
   "cell_type": "code",
   "execution_count": 14,
   "metadata": {},
   "outputs": [
    {
     "data": {
      "text/plain": [
       "<matplotlib.axes._subplots.AxesSubplot at 0x7f7781677e10>"
      ]
     },
     "execution_count": 14,
     "metadata": {},
     "output_type": "execute_result"
    },
    {
     "data": {
      "image/png": "[encoded data removed]",
      "text/plain": [
       "<Figure size 432x288 with 1 Axes>"
      ]
     },
     "metadata": {
      "needs_background": "light"
     },
     "output_type": "display_data"
    }
   ],
   "source": [
    "df.plot.scatter(\"Set Point\", \"Volumetric Flow\")"
   ]
  }
 ],
 "metadata": {
  "kernelspec": {
   "display_name": "Python 3",
   "language": "python",
   "name": "python3"
  },
  "language_info": {
   "codemirror_mode": {
    "name": "ipython",
    "version": 3
   },
   "file_extension": ".py",
   "mimetype": "text/x-python",
   "name": "python",
   "nbconvert_exporter": "python",
   "pygments_lexer": "ipython3",
   "version": "3.7.6"
  }
 },
 "nbformat": 4,
 "nbformat_minor": 4
}
